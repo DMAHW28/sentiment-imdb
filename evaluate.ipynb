{
 "cells": [
  {
   "cell_type": "code",
   "id": "initial_id",
   "metadata": {
    "collapsed": true,
    "ExecuteTime": {
     "end_time": "2025-06-04T14:15:53.922735Z",
     "start_time": "2025-06-04T14:15:49.596575Z"
    }
   },
   "source": [
    "import torch\n",
    "import seaborn as sns\n",
    "import torch.nn as nn\n",
    "from tqdm import tqdm\n",
    "import matplotlib.pyplot as plt\n",
    "from src.preprocessing import ImdbDatabase\n",
    "from src.model import TextClassifierTransformer\n",
    "from sklearn.metrics import confusion_matrix, ConfusionMatrixDisplay, classification_report"
   ],
   "outputs": [],
   "execution_count": 1
  },
  {
   "metadata": {
    "ExecuteTime": {
     "end_time": "2025-06-04T14:15:54.015569Z",
     "start_time": "2025-06-04T14:15:53.928467Z"
    }
   },
   "cell_type": "code",
   "source": [
    "max_len = 100\n",
    "batch_size = 32\n",
    "num_words = 5000\n",
    "device = torch.device('mps' if torch.backends.mps.is_available() else 'cpu')\n",
    "imdb_database = ImdbDatabase(data_file_name='data/imdbdatabase.csv',  num_words = num_words, max_len=max_len, batch_size = batch_size, device = device)\n",
    "train_loader, val_loader, test_loader = imdb_database.load_data()"
   ],
   "id": "341e928c8cded330",
   "outputs": [],
   "execution_count": 2
  },
  {
   "metadata": {
    "ExecuteTime": {
     "end_time": "2025-06-04T14:15:54.086908Z",
     "start_time": "2025-06-04T14:15:54.064284Z"
    }
   },
   "cell_type": "code",
   "source": [
    "# Les paramètres d'entrainement du Model teacher\n",
    "# torch._C._set_nested_tensor(False)\n",
    "print(device)\n",
    "d_out: int=2\n",
    "n_head: int=2\n",
    "d_model: int=64\n",
    "epochs: int=300\n",
    "dropout: float=0.75\n",
    "num_embeddings: int=5000\n",
    "num_encoder_layers: int=1\n",
    "dim_feedforward: int = 1 * d_model\n",
    "\n",
    "clf_model = TextClassifierTransformer(vocab_size=num_embeddings, dim_feedforward=dim_feedforward, output_dim=d_out, num_layers=num_encoder_layers, n_head=n_head, d_model=d_model, dropout=dropout)\n",
    "criterion = nn.CrossEntropyLoss()\n",
    "clf_model.load_state_dict(torch.load('models/text_classifier_model_pool.pth'))"
   ],
   "id": "1a40672d33cef128",
   "outputs": [
    {
     "name": "stdout",
     "output_type": "stream",
     "text": [
      "mps\n"
     ]
    },
    {
     "data": {
      "text/plain": [
       "<All keys matched successfully>"
      ]
     },
     "execution_count": 3,
     "metadata": {},
     "output_type": "execute_result"
    }
   ],
   "execution_count": 3
  },
  {
   "metadata": {
    "ExecuteTime": {
     "end_time": "2025-06-04T14:15:54.350108Z",
     "start_time": "2025-06-04T14:15:54.093471Z"
    }
   },
   "cell_type": "code",
   "source": [
    "loss_tot = 0\n",
    "correct = 0\n",
    "targets = []\n",
    "predicteds = []\n",
    "\n",
    "device = torch.device(\"cpu\" )\n",
    "with torch.no_grad():  # Pas de calcul des gradients\n",
    "    clf_model.eval()  # Mode évaluation\n",
    "    clf_model.to(device)\n",
    "    for x, y, mask in test_loader:  # Traitement par batch\n",
    "        y = y.to(device)\n",
    "        x = x.to(device)\n",
    "        mask = mask.to(device).bool()\n",
    "        # Prediction probabilities\n",
    "        outputs = clf_model(x, mask)\n",
    "        # Compute loss\n",
    "        loss = criterion(outputs, y)\n",
    "        # Prediction\n",
    "        predicted = torch.argmax(outputs, dim=1)  \n",
    "        correct += (predicted == y).sum().item() \n",
    "        targets.extend(y.cpu().numpy().reshape(-1))\n",
    "        predicteds.extend(predicted.detach().cpu().numpy().reshape(-1))\n",
    "        # Loss summation\n",
    "        loss_tot += loss.item()  \n",
    "\n",
    "# Compute Accuracy\n",
    "accuracy = 100 * correct / len(test_loader.dataset)\n",
    "# Display test statistics\n",
    "print(f'Loss: {loss_tot / len(test_loader)}') \n",
    "print(f'Accuracy: {accuracy}%') "
   ],
   "id": "2a271dbb7db82350",
   "outputs": [
    {
     "name": "stdout",
     "output_type": "stream",
     "text": [
      "Loss: 0.31824053906732136\n",
      "Accuracy: 89.19860627177701%\n"
     ]
    }
   ],
   "execution_count": 4
  },
  {
   "metadata": {
    "ExecuteTime": {
     "end_time": "2025-06-04T14:15:54.364214Z",
     "start_time": "2025-06-04T14:15:54.358433Z"
    }
   },
   "cell_type": "code",
   "source": "print(classification_report(targets, predicteds, digits=2))",
   "id": "1df607212b97d52a",
   "outputs": [
    {
     "name": "stdout",
     "output_type": "stream",
     "text": [
      "              precision    recall  f1-score   support\n",
      "\n",
      "           0       0.89      0.87      0.88       260\n",
      "           1       0.89      0.91      0.90       314\n",
      "\n",
      "    accuracy                           0.89       574\n",
      "   macro avg       0.89      0.89      0.89       574\n",
      "weighted avg       0.89      0.89      0.89       574\n",
      "\n"
     ]
    }
   ],
   "execution_count": 5
  },
  {
   "metadata": {
    "ExecuteTime": {
     "end_time": "2025-06-04T14:16:46.390797Z",
     "start_time": "2025-06-04T14:16:46.304946Z"
    }
   },
   "cell_type": "code",
   "source": [
    "# BERT:\n",
    "clf_classes = [i for i in range(2)]\n",
    "conf_mat_norm = confusion_matrix(targets, predicteds, normalize='true', labels=clf_classes)\n",
    "# Afficher la matrice avec matplotlib\n",
    "disp_norm = ConfusionMatrixDisplay(confusion_matrix=conf_mat_norm, display_labels=clf_classes)\n",
    "disp_norm.plot(cmap=plt.cm.Blues, values_format=\".2f\")\n",
    "plt.title(\"BERT Normalized Confusion matrix \")\n",
    "plt.grid(False)\n",
    "plt.show()"
   ],
   "id": "9446dbcbe169a95d",
   "outputs": [
    {
     "data": {
      "text/plain": [
       "<Figure size 640x480 with 2 Axes>"
      ],
      "image/png": "[encoded data removed]"
     },
     "metadata": {},
     "output_type": "display_data"
    }
   ],
   "execution_count": 7
  },
  {
   "metadata": {},
   "cell_type": "code",
   "outputs": [],
   "execution_count": null,
   "source": "",
   "id": "a0ea17b79887f83f"
  }
 ],
 "metadata": {
  "kernelspec": {
   "display_name": "Python 3",
   "language": "python",
   "name": "python3"
  },
  "language_info": {
   "codemirror_mode": {
    "name": "ipython",
    "version": 2
   },
   "file_extension": ".py",
   "mimetype": "text/x-python",
   "name": "python",
   "nbconvert_exporter": "python",
   "pygments_lexer": "ipython2",
   "version": "2.7.6"
  }
 },
 "nbformat": 4,
 "nbformat_minor": 5
}
